{
 "cells": [
  {
   "cell_type": "code",
   "execution_count": 28,
   "id": "8ad55c96-77dd-4e59-b04d-79f4dac8dd01",
   "metadata": {},
   "outputs": [],
   "source": [
    "import os\n",
    "import re\n",
    "import pandas as pd\n",
    "import numpy as np\n",
    "from collections import Counter\n",
    "from sklearn.impute import SimpleImputer\n",
    "from sklearn.preprocessing import MinMaxScaler, StandardScaler\n",
    "from sklearn.model_selection import train_test_split\n",
    "from xgboost import XGBClassifier\n",
    "from sklearn.metrics import accuracy_score"
   ]
  },
  {
   "cell_type": "code",
   "execution_count": 11,
   "id": "081c4f75-cba7-45bb-bf32-6140a7ef845d",
   "metadata": {},
   "outputs": [],
   "source": [
    "data_dir = f'{os.getcwd()}/data/'\n",
    "\n",
    "ss_titanic_train_raw = pd.read_csv('/Users/jonyarber/Documents/Projects/spaceship_titanic/data/train.csv')\n",
    "ss_titanic_test_raw = pd.read_csv('/Users/jonyarber/Documents/Projects/spaceship_titanic/data/test.csv')"
   ]
  },
  {
   "cell_type": "code",
   "execution_count": 12,
   "id": "c4666798-306e-4262-9232-d133d99671e5",
   "metadata": {},
   "outputs": [],
   "source": [
    "def make_dummies(df, var_list):\n",
    "    \n",
    "    for var in var_list:\n",
    "        \n",
    "        df = pd.concat([df,\n",
    "                        pd.get_dummies(df[var],\n",
    "                                       prefix = var,\n",
    "                                       dtype = 'int')],\n",
    "                       axis = 1)\n",
    "\n",
    "    df = df.drop(var_list, axis = 1)\n",
    "        \n",
    "    return df"
   ]
  },
  {
   "cell_type": "code",
   "execution_count": 14,
   "id": "dc8c2be3-7baa-4297-9f77-97c33644352b",
   "metadata": {},
   "outputs": [],
   "source": [
    "def clean_dfs(df):\n",
    "\n",
    "        # Create a copy of DF\n",
    "        df = df.copy()\n",
    "\n",
    "        # Convert True/False columns to binary\n",
    "        binary_vars = ['CryoSleep', 'VIP', 'Transported']\n",
    "\n",
    "        # 'Transported' won't be in test DF\n",
    "        binary_vars = list(set(df.columns).intersection(binary_vars))\n",
    "\n",
    "        #df.loc[:, binary_vars] = df[binary_vars].map(lambda x: 1 if x == True else 0 if x == False else x)\n",
    "    \n",
    "        for var in binary_vars:\n",
    "            df[var] = [1 if x == True else 0 if x == False else x for x in df[var]]\n",
    "\n",
    "    \n",
    "        #### Billing ####\n",
    "        # Billing Vars\n",
    "        billing_vars = ['RoomService', 'FoodCourt', 'ShoppingMall', 'VRDeck', 'Spa']\n",
    "\n",
    "        # Fill the NAs with 0\n",
    "        df.loc[:, billing_vars] = df[billing_vars].fillna(0) \n",
    "\n",
    "        # Create TotalSpent\n",
    "        df['TotalSpent'] = df[billing_vars].sum(axis = 1)\n",
    "\n",
    "    \n",
    "        #### Group ####\n",
    "        # Check if in group\n",
    "        df['GroupNo'] = [x.split('_')[0] for x in df['PassengerId']]\n",
    "        df['InGroup'] = np.where((df['GroupNo'] == df['GroupNo'].shift(1))  | (df['GroupNo'] == df['GroupNo'].shift(-1)) , 1, 0)\n",
    "\n",
    "    \n",
    "        #### Cabin ####\n",
    "        # Separate out cabin\n",
    "        df[['Deck', 'CabinNo', 'Side']] = df['Cabin'].str.split(\"/\", expand = True)\n",
    "\n",
    "\n",
    "        #### Home Planet ####\n",
    "        # Some Home Planets can be determined by Deck\n",
    "        # If Deck is A-C, Europa\n",
    "        df.loc[df['Deck'].isin(['A', 'B', 'C']), 'HomePlanet'] = df['HomePlanet'].fillna('Europa')\n",
    "\n",
    "        # If Deck is D, Mars\n",
    "        df.loc[df['Deck'] == 'D', 'HomePlanet'] = df['HomePlanet'].fillna('Mars')\n",
    "\n",
    "        # If Deck is G, Earth\n",
    "        df.loc[df['Deck'] == 'G', 'HomePlanet'] = df['HomePlanet'].fillna('Earth')\n",
    "\n",
    "\n",
    "        #### Age ####\n",
    "        # Impute Age based on Home Planet\n",
    "        median_age_by_planet = df.groupby('HomePlanet')['Age'].median()\n",
    "\n",
    "        for planet in median_age_by_planet.index:\n",
    "            df.loc[df['HomePlanet'] == planet, 'Age'] = df['Age'].fillna(median_age_by_planet[planet])\n",
    "\n",
    "        # Fill remaining with median age\n",
    "        df['Age'] = df['Age'].fillna(df['Age'].median())\n",
    "\n",
    "\n",
    "        #### Cryo Sleep ####\n",
    "        # If money was spent, not in CryoSleep (where NA)\n",
    "        df['CryoSleep'] = df.apply(lambda x: 0 if x['TotalSpent'] > 0 & pd.isna(x['CryoSleep']) else x['CryoSleep'], axis = 1)\n",
    "    \n",
    "        # If Age < 12 and no money spent, not in CryoSleep (where NA)\n",
    "        df['CryoSleep'] = df.apply(lambda x: 1 if x['TotalSpent'] == 0 & int(x['Age']) < 12 & pd.isna(x['CryoSleep']) else x['CryoSleep'], axis = 1)\n",
    "    \n",
    "        # Fill rest of CyroSleep with 1 (no money spent - in CryoSleep)\n",
    "        df['CryoSleep'] = df['CryoSleep'].fillna(1)\n",
    "\n",
    "    \n",
    "        #### VIP ####\n",
    "        # Most people didn't travel VIP - can fill NA with 0\n",
    "        df['VIP'] = df['VIP'].fillna(0)\n",
    "\n",
    "\n",
    "        #### Final Clean Up ####\n",
    "        # Clean the Destinations for final DF\n",
    "        df['Destination'] = df['Destination'].apply(lambda x: re.sub('[^A-Za-z0-9]+', '', str(x)).upper() if pd.notnull(x) else np.nan)\n",
    "\n",
    "        # Drop Cabin, Name, and GroupNo\n",
    "        df.drop(['GroupNo', 'Name', 'Cabin', 'CabinNo'], axis = 1, inplace = True)\n",
    "\n",
    "        # Dummy categorical variables\n",
    "        df = make_dummies(df, ['HomePlanet', 'Destination', 'Deck', 'Side'])\n",
    "\n",
    "        return df"
   ]
  },
  {
   "cell_type": "code",
   "execution_count": 25,
   "id": "7a924bb7-8dd2-4e51-908e-db3726e94aac",
   "metadata": {},
   "outputs": [],
   "source": [
    "ss_titanic_train, ss_titanic_test = [clean_dfs(df) for df in [ss_titanic_train_raw, ss_titanic_test_raw]]"
   ]
  },
  {
   "cell_type": "code",
   "execution_count": 120,
   "id": "d0641970-0e63-4fc8-b91c-b8a08f1621d4",
   "metadata": {},
   "outputs": [],
   "source": [
    "X = df_prep(ss_titanic_train.copy(), 'minmax')\n",
    "y = X.pop('Transported')\n",
    "\n",
    "X_train_good, X_test_good, y_train_good, y_test_good = train_test_split(X, y, stratify = y, random_state = best_random_state)"
   ]
  },
  {
   "cell_type": "code",
   "execution_count": 123,
   "id": "f1e861ee-4f19-408d-9e53-671f45ae47fc",
   "metadata": {},
   "outputs": [],
   "source": [
    "X = df_prep(ss_titanic_train.copy(), 'minmax')\n",
    "y = X.pop('Transported')\n",
    "\n",
    "X_train_bad, X_test_bad, y_train_bad, y_test_bad = train_test_split(X, y, stratify = y, random_state = worst_random_state)"
   ]
  },
  {
   "cell_type": "code",
   "execution_count": null,
   "id": "16d4aefe-4d81-4f02-86ff-484f9a77816f",
   "metadata": {},
   "outputs": [],
   "source": [
    "best_random_state_feature_diff"
   ]
  },
  {
   "cell_type": "code",
   "execution_count": null,
   "id": "00fcf5d9-836e-4aea-8b62-9a4063cdc0bd",
   "metadata": {},
   "outputs": [],
   "source": [
    "X = df_prep(ss_titanic_train.copy(), 'minmax')\n",
    "y = X.pop('Transported')\n",
    "\n",
    "X_train_good_fd, X_test_good_fd, y_train_good_fd, y_test_good_fd = train_test_split(X, y, stratify = y, random_state = best_random_state_feature_diff)"
   ]
  },
  {
   "cell_type": "code",
   "execution_count": null,
   "id": "84720cef-90d6-4c0e-89f2-6fe33b18818b",
   "metadata": {},
   "outputs": [],
   "source": [
    "#Feature diff\n",
    "sum(abs((X.mean() - X_train_good_fd.mean())) * 1000)"
   ]
  },
  {
   "cell_type": "code",
   "execution_count": null,
   "id": "302255a7-ec18-4549-b175-34d2739c5a86",
   "metadata": {},
   "outputs": [],
   "source": [
    "xgb = XGBClassifier(n_estimators = 150, random_state = 0)\n",
    "xgb.fit(X_train_good_fd, y_train_good_fd)\n",
    "#pd.DataFrame({'fis':xgb.feature_importances_}, index = X.columns).sort_values(by = 'fis', ascending = False)\n",
    "\n",
    "pred = xgb.predict(X_test_good_fd)\n",
    "\n",
    "print(accuracy_score(pred, y_test_good_fd))"
   ]
  },
  {
   "cell_type": "code",
   "execution_count": null,
   "id": "bc2babe6-b34a-490c-9ecf-3d4405a689b5",
   "metadata": {},
   "outputs": [],
   "source": []
  }
 ],
 "metadata": {
  "kernelspec": {
   "display_name": "Python 3 (ipykernel)",
   "language": "python",
   "name": "python3"
  },
  "language_info": {
   "codemirror_mode": {
    "name": "ipython",
    "version": 3
   },
   "file_extension": ".py",
   "mimetype": "text/x-python",
   "name": "python",
   "nbconvert_exporter": "python",
   "pygments_lexer": "ipython3",
   "version": "3.12.2"
  }
 },
 "nbformat": 4,
 "nbformat_minor": 5
}
